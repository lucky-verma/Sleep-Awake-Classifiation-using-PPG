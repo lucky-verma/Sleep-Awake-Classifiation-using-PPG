{
 "cells": [
  {
   "cell_type": "code",
   "execution_count": 1,
   "metadata": {},
   "outputs": [],
   "source": [
    "import pyedflib\n",
    "import os\n",
    "import shutil\n",
    "import glob\n",
    "import datetime\n",
    "import time\n",
    "import pandas as pd\n",
    "import numpy as np\n",
    "import numpy as np\n",
    "import matplotlib.pyplot as plt\n",
    "\n",
    "from numpy import mean, sqrt, square, arange\n",
    "from matplotlib import pyplot as plt\n",
    "from matplotlib.pyplot import figure\n",
    "from sklearn import preprocessing\n",
    "from sklearn.preprocessing import LabelEncoder\n",
    "from sklearn.preprocessing import StandardScaler\n",
    "from sklearn.model_selection import train_test_split\n",
    "from sklearn.metrics import classification_report, confusion_matrix\n",
    "from sklearn.ensemble import RandomForestClassifier"
   ]
  },
  {
   "cell_type": "code",
   "execution_count": 2,
   "metadata": {},
   "outputs": [
    {
     "name": "stderr",
     "output_type": "stream",
     "text": [
      "C:\\Users\\lucki\\AppData\\Local\\Temp\\ipykernel_46792\\2648183510.py:3: DtypeWarning: Columns (6) have mixed types. Specify dtype option on import or set low_memory=False.\n",
      "  mdf = pd.read_csv(path, sep=',')\n"
     ]
    },
    {
     "data": {
      "text/html": [
       "<div>\n",
       "<style scoped>\n",
       "    .dataframe tbody tr th:only-of-type {\n",
       "        vertical-align: middle;\n",
       "    }\n",
       "\n",
       "    .dataframe tbody tr th {\n",
       "        vertical-align: top;\n",
       "    }\n",
       "\n",
       "    .dataframe thead th {\n",
       "        text-align: right;\n",
       "    }\n",
       "</style>\n",
       "<table border=\"1\" class=\"dataframe\">\n",
       "  <thead>\n",
       "    <tr style=\"text-align: right;\">\n",
       "      <th></th>\n",
       "      <th>Unnamed: 0</th>\n",
       "      <th>counter</th>\n",
       "      <th>unixTimes</th>\n",
       "      <th>accelerometerX</th>\n",
       "      <th>accelerometerY</th>\n",
       "      <th>accelerometerZ</th>\n",
       "      <th>capacitorsA</th>\n",
       "      <th>capacitorsB</th>\n",
       "      <th>capacitorsC</th>\n",
       "      <th>gyroscopeX</th>\n",
       "      <th>...</th>\n",
       "      <th>sleep_state</th>\n",
       "      <th>Leg Movement</th>\n",
       "      <th>Hypopnea</th>\n",
       "      <th>Arousal</th>\n",
       "      <th>RERA</th>\n",
       "      <th>Relative Desaturation</th>\n",
       "      <th>Obstructive Apnea</th>\n",
       "      <th>Central Apnea</th>\n",
       "      <th>Leg Movement (L)</th>\n",
       "      <th>Leg Movement (R)</th>\n",
       "    </tr>\n",
       "  </thead>\n",
       "  <tbody>\n",
       "    <tr>\n",
       "      <th>0</th>\n",
       "      <td>3430</td>\n",
       "      <td>3428</td>\n",
       "      <td>1643957818001</td>\n",
       "      <td>1321.0</td>\n",
       "      <td>-2998.0</td>\n",
       "      <td>-2570.0</td>\n",
       "      <td>30856.0</td>\n",
       "      <td>NaN</td>\n",
       "      <td>NaN</td>\n",
       "      <td>-113.0</td>\n",
       "      <td>...</td>\n",
       "      <td>-1.0</td>\n",
       "      <td>0</td>\n",
       "      <td>0</td>\n",
       "      <td>0</td>\n",
       "      <td>0</td>\n",
       "      <td>0</td>\n",
       "      <td>0</td>\n",
       "      <td>0</td>\n",
       "      <td>0</td>\n",
       "      <td>0</td>\n",
       "    </tr>\n",
       "    <tr>\n",
       "      <th>1</th>\n",
       "      <td>3431</td>\n",
       "      <td>3433</td>\n",
       "      <td>1643957818034</td>\n",
       "      <td>NaN</td>\n",
       "      <td>NaN</td>\n",
       "      <td>NaN</td>\n",
       "      <td>NaN</td>\n",
       "      <td>NaN</td>\n",
       "      <td>NaN</td>\n",
       "      <td>NaN</td>\n",
       "      <td>...</td>\n",
       "      <td>-1.0</td>\n",
       "      <td>0</td>\n",
       "      <td>0</td>\n",
       "      <td>0</td>\n",
       "      <td>0</td>\n",
       "      <td>0</td>\n",
       "      <td>0</td>\n",
       "      <td>0</td>\n",
       "      <td>0</td>\n",
       "      <td>0</td>\n",
       "    </tr>\n",
       "    <tr>\n",
       "      <th>2</th>\n",
       "      <td>3432</td>\n",
       "      <td>3429</td>\n",
       "      <td>1643957818041</td>\n",
       "      <td>1320.0</td>\n",
       "      <td>-2993.0</td>\n",
       "      <td>-2562.0</td>\n",
       "      <td>30858.0</td>\n",
       "      <td>NaN</td>\n",
       "      <td>NaN</td>\n",
       "      <td>-54.0</td>\n",
       "      <td>...</td>\n",
       "      <td>-1.0</td>\n",
       "      <td>0</td>\n",
       "      <td>0</td>\n",
       "      <td>0</td>\n",
       "      <td>0</td>\n",
       "      <td>0</td>\n",
       "      <td>0</td>\n",
       "      <td>0</td>\n",
       "      <td>0</td>\n",
       "      <td>0</td>\n",
       "    </tr>\n",
       "    <tr>\n",
       "      <th>3</th>\n",
       "      <td>3433</td>\n",
       "      <td>3434</td>\n",
       "      <td>1643957818074</td>\n",
       "      <td>NaN</td>\n",
       "      <td>NaN</td>\n",
       "      <td>NaN</td>\n",
       "      <td>NaN</td>\n",
       "      <td>NaN</td>\n",
       "      <td>NaN</td>\n",
       "      <td>NaN</td>\n",
       "      <td>...</td>\n",
       "      <td>-1.0</td>\n",
       "      <td>0</td>\n",
       "      <td>0</td>\n",
       "      <td>0</td>\n",
       "      <td>0</td>\n",
       "      <td>0</td>\n",
       "      <td>0</td>\n",
       "      <td>0</td>\n",
       "      <td>0</td>\n",
       "      <td>0</td>\n",
       "    </tr>\n",
       "    <tr>\n",
       "      <th>4</th>\n",
       "      <td>3434</td>\n",
       "      <td>3430</td>\n",
       "      <td>1643957818081</td>\n",
       "      <td>1355.0</td>\n",
       "      <td>-2979.0</td>\n",
       "      <td>-2559.0</td>\n",
       "      <td>30857.0</td>\n",
       "      <td>NaN</td>\n",
       "      <td>NaN</td>\n",
       "      <td>-46.0</td>\n",
       "      <td>...</td>\n",
       "      <td>-1.0</td>\n",
       "      <td>0</td>\n",
       "      <td>0</td>\n",
       "      <td>0</td>\n",
       "      <td>0</td>\n",
       "      <td>0</td>\n",
       "      <td>0</td>\n",
       "      <td>0</td>\n",
       "      <td>0</td>\n",
       "      <td>0</td>\n",
       "    </tr>\n",
       "  </tbody>\n",
       "</table>\n",
       "<p>5 rows × 30 columns</p>\n",
       "</div>"
      ],
      "text/plain": [
       "   Unnamed: 0  counter      unixTimes  accelerometerX  accelerometerY  \\\n",
       "0        3430     3428  1643957818001          1321.0         -2998.0   \n",
       "1        3431     3433  1643957818034             NaN             NaN   \n",
       "2        3432     3429  1643957818041          1320.0         -2993.0   \n",
       "3        3433     3434  1643957818074             NaN             NaN   \n",
       "4        3434     3430  1643957818081          1355.0         -2979.0   \n",
       "\n",
       "   accelerometerZ capacitorsA  capacitorsB  capacitorsC  gyroscopeX  ...  \\\n",
       "0         -2570.0     30856.0          NaN          NaN      -113.0  ...   \n",
       "1             NaN         NaN          NaN          NaN         NaN  ...   \n",
       "2         -2562.0     30858.0          NaN          NaN       -54.0  ...   \n",
       "3             NaN         NaN          NaN          NaN         NaN  ...   \n",
       "4         -2559.0     30857.0          NaN          NaN       -46.0  ...   \n",
       "\n",
       "   sleep_state  Leg Movement  Hypopnea  Arousal  RERA  Relative Desaturation  \\\n",
       "0         -1.0             0         0        0     0                      0   \n",
       "1         -1.0             0         0        0     0                      0   \n",
       "2         -1.0             0         0        0     0                      0   \n",
       "3         -1.0             0         0        0     0                      0   \n",
       "4         -1.0             0         0        0     0                      0   \n",
       "\n",
       "   Obstructive Apnea  Central Apnea Leg Movement (L) Leg Movement (R)  \n",
       "0                  0              0                0                0  \n",
       "1                  0              0                0                0  \n",
       "2                  0              0                0                0  \n",
       "3                  0              0                0                0  \n",
       "4                  0              0                0                0  \n",
       "\n",
       "[5 rows x 30 columns]"
      ]
     },
     "execution_count": 2,
     "metadata": {},
     "output_type": "execute_result"
    }
   ],
   "source": [
    "# Read raw PPG files\n",
    "path = r'prof_data\\resteaze\\00000177-resteaze-sync.csv'\n",
    "mdf = pd.read_csv(path, sep=',')\n",
    "mdf.head()"
   ]
  },
  {
   "cell_type": "code",
   "execution_count": 3,
   "metadata": {},
   "outputs": [],
   "source": [
    "fname = path.split('\\\\')[-1].split('-')[0]"
   ]
  },
  {
   "cell_type": "markdown",
   "metadata": {},
   "source": [
    "# TODO: Try to get all the data in one row"
   ]
  },
  {
   "cell_type": "code",
   "execution_count": 4,
   "metadata": {},
   "outputs": [],
   "source": [
    "# TODO: Add combined epoch data to the dataframe"
   ]
  },
  {
   "cell_type": "code",
   "execution_count": 5,
   "metadata": {},
   "outputs": [
    {
     "data": {
      "text/html": [
       "<div>\n",
       "<style scoped>\n",
       "    .dataframe tbody tr th:only-of-type {\n",
       "        vertical-align: middle;\n",
       "    }\n",
       "\n",
       "    .dataframe tbody tr th {\n",
       "        vertical-align: top;\n",
       "    }\n",
       "\n",
       "    .dataframe thead th {\n",
       "        text-align: right;\n",
       "    }\n",
       "</style>\n",
       "<table border=\"1\" class=\"dataframe\">\n",
       "  <thead>\n",
       "    <tr style=\"text-align: right;\">\n",
       "      <th></th>\n",
       "      <th>ledGreen</th>\n",
       "      <th>sleep_state</th>\n",
       "    </tr>\n",
       "  </thead>\n",
       "  <tbody>\n",
       "    <tr>\n",
       "      <th>1</th>\n",
       "      <td>4719.0</td>\n",
       "      <td>0</td>\n",
       "    </tr>\n",
       "    <tr>\n",
       "      <th>3</th>\n",
       "      <td>4720.0</td>\n",
       "      <td>0</td>\n",
       "    </tr>\n",
       "    <tr>\n",
       "      <th>5</th>\n",
       "      <td>4724.0</td>\n",
       "      <td>0</td>\n",
       "    </tr>\n",
       "    <tr>\n",
       "      <th>7</th>\n",
       "      <td>4724.0</td>\n",
       "      <td>0</td>\n",
       "    </tr>\n",
       "    <tr>\n",
       "      <th>9</th>\n",
       "      <td>4726.0</td>\n",
       "      <td>0</td>\n",
       "    </tr>\n",
       "  </tbody>\n",
       "</table>\n",
       "</div>"
      ],
      "text/plain": [
       "   ledGreen  sleep_state\n",
       "1    4719.0            0\n",
       "3    4720.0            0\n",
       "5    4724.0            0\n",
       "7    4724.0            0\n",
       "9    4726.0            0"
      ]
     },
     "execution_count": 5,
     "metadata": {},
     "output_type": "execute_result"
    }
   ],
   "source": [
    "df = mdf[mdf.sleep_state != -1].reset_index()\n",
    "\n",
    "df = df[[\n",
    "    'ledGreen',\n",
    "    'sleep_state'\n",
    "]].dropna()\n",
    "# df['sleep_state'] = df['sleep_state'].mask(lambda col: col == -1, 6)\n",
    "\n",
    "# Applying the condition\n",
    "df[\"sleep_state\"] = np.where(df[\"sleep_state\"] == 0, 0, 1)\n",
    "df.head()"
   ]
  },
  {
   "cell_type": "code",
   "execution_count": 6,
   "metadata": {},
   "outputs": [
    {
     "data": {
      "text/plain": [
       "1    370330\n",
       "0    169088\n",
       "Name: sleep_state, dtype: int64"
      ]
     },
     "execution_count": 6,
     "metadata": {},
     "output_type": "execute_result"
    }
   ],
   "source": [
    "df['sleep_state'].value_counts()"
   ]
  },
  {
   "cell_type": "code",
   "execution_count": 7,
   "metadata": {},
   "outputs": [],
   "source": [
    "from scipy.signal import butter, sosfilt, sosfreqz\n",
    "\n",
    "def butter_bandpass(lowcut, highcut, fs, order=5):\n",
    "        nyq = 0.5 * fs\n",
    "        low = lowcut / nyq\n",
    "        high = highcut / nyq\n",
    "        sos = butter(order, [low, high], analog=False, btype='band', output='sos')\n",
    "        return sos\n",
    "\n",
    "def butter_bandpass_filter(data, lowcut, highcut, fs, order=5):\n",
    "        sos = butter_bandpass(lowcut, highcut, fs, order=order)\n",
    "        y = sosfilt(sos, data)\n",
    "        return y\n",
    "\n",
    "# apply bandpass filter\n",
    "\n",
    "fs = 25\n",
    "lowcut = 0.65\n",
    "highcut = 3.0\n",
    "\n",
    "df['ledGreen'] = butter_bandpass_filter(df['ledGreen'], lowcut, highcut, fs, order=4)"
   ]
  },
  {
   "cell_type": "code",
   "execution_count": 8,
   "metadata": {},
   "outputs": [],
   "source": [
    "# plt.plot(df['ledGreen'][800:1024], label='Acc signal (%g Hz)' % 25)\n",
    "# plt.xlabel('time (ms)')\n",
    "# plt.grid(True)\n",
    "# plt.axis('tight')\n",
    "# plt.legend(loc='upper left')\n",
    "\n",
    "# plt.show()\n",
    "\n",
    "# plt.plot(df['ledGreen'][800:1024], label='Bandpass signal (%g Hz)' % 25)\n",
    "# plt.xlabel('time (ms)')\n",
    "# plt.grid(True)\n",
    "# plt.axis('tight')\n",
    "# plt.legend(loc='upper left')\n",
    "\n",
    "# plt.show()\n"
   ]
  },
  {
   "cell_type": "markdown",
   "metadata": {},
   "source": [
    "# Get the analysis for epochs"
   ]
  },
  {
   "cell_type": "code",
   "execution_count": 9,
   "metadata": {},
   "outputs": [
    {
     "name": "stdout",
     "output_type": "stream",
     "text": [
      "bpm: 58.237350\n",
      "ibi: 1030.266667\n",
      "sdnn: 226.830176\n",
      "sdsd: 257.701138\n",
      "rmssd: 331.729475\n",
      "pnn20: 0.629630\n",
      "pnn50: 0.481481\n",
      "hr_mad: 0.000000\n",
      "sd1: 223.821406\n",
      "sd2: 262.071520\n",
      "s: 184277.079263\n",
      "sd1/sd2: 0.854047\n",
      "breathingrate: 0.161770\n"
     ]
    },
    {
     "name": "stderr",
     "output_type": "stream",
     "text": [
      "c:\\Users\\lucki\\anaconda3\\envs\\tf\\lib\\site-packages\\heartpy\\visualizeutils.py:119: UserWarning: Matplotlib is currently using module://matplotlib_inline.backend_inline, which is a non-GUI backend, so cannot show the figure.\n",
      "  fig.show()\n"
     ]
    },
    {
     "data": {
      "text/plain": [
       "<Figure size 2500x400 with 0 Axes>"
      ]
     },
     "metadata": {},
     "output_type": "display_data"
    },
    {
     "data": {
      "image/png": "[encoded data removed]",
      "text/plain": [
       "<Figure size 640x480 with 1 Axes>"
      ]
     },
     "metadata": {},
     "output_type": "display_data"
    }
   ],
   "source": [
    "import heartpy as hp\n",
    "\n",
    "#run the analysis\n",
    "wd, m = hp.process(np.array(df['ledGreen']), sample_rate=25.0)\n",
    "\n",
    "\n",
    "#set large figure\n",
    "plt.figure(figsize=(25,4))\n",
    "\n",
    "#call plotter\n",
    "hp.plotter(wd, m)\n",
    "\n",
    "#display measures computed\n",
    "for measure in m.keys():\n",
    "    print('%s: %f' %(measure, m[measure]))"
   ]
  },
  {
   "cell_type": "code",
   "execution_count": 10,
   "metadata": {},
   "outputs": [
    {
     "name": "stderr",
     "output_type": "stream",
     "text": [
      "c:\\Users\\lucki\\anaconda3\\envs\\tf\\lib\\site-packages\\scipy\\interpolate\\fitpack2.py:280: UserWarning: \n",
      "The maximal number of iterations maxit (set to 20 by the program)\n",
      "allowed for finding a smoothing spline with fp=s has been reached: s\n",
      "too small.\n",
      "There is an approximation returned but the corresponding weighted sum\n",
      "of squared residuals does not satisfy the condition abs(fp-s)/s < tol.\n",
      "  warnings.warn(message)\n",
      "c:\\Users\\lucki\\anaconda3\\envs\\tf\\lib\\site-packages\\numpy\\ma\\core.py:5244: RuntimeWarning: Mean of empty slice.\n",
      "  result = super().mean(axis=axis, dtype=dtype, **kwargs)[()]\n",
      "c:\\Users\\lucki\\anaconda3\\envs\\tf\\lib\\site-packages\\numpy\\core\\fromnumeric.py:3723: RuntimeWarning: Degrees of freedom <= 0 for slice\n",
      "  return _methods._var(a, axis=axis, dtype=dtype, out=out, ddof=ddof,\n",
      "c:\\Users\\lucki\\anaconda3\\envs\\tf\\lib\\site-packages\\numpy\\core\\fromnumeric.py:3440: RuntimeWarning: Mean of empty slice.\n",
      "  return _methods._mean(a, axis=axis, dtype=dtype,\n",
      "c:\\Users\\lucki\\anaconda3\\envs\\tf\\lib\\site-packages\\numpy\\core\\_methods.py:262: RuntimeWarning: Degrees of freedom <= 0 for slice\n",
      "  ret = _var(a, axis=axis, dtype=dtype, out=out, ddof=ddof,\n"
     ]
    }
   ],
   "source": [
    "#run the segmented analysis\n",
    "seg_wd, seg_m = hp.process_segmentwise(np.array(df['ledGreen']), sample_rate=25.0, segment_width = 40, segment_overlap = 0.25)\n"
   ]
  },
  {
   "cell_type": "code",
   "execution_count": 11,
   "metadata": {},
   "outputs": [],
   "source": [
    "hp.segment_plotter(seg_wd, seg_m, title='Heart Rate Signal Peak Detection', figsize=(25, 6), path='heartpy_outputs/{}'.format(fname), start=0, end=None, step=1)"
   ]
  },
  {
   "cell_type": "code",
   "execution_count": null,
   "metadata": {},
   "outputs": [],
   "source": []
  },
  {
   "cell_type": "markdown",
   "metadata": {},
   "source": [
    "#### Number of accepted and rejected peaks"
   ]
  },
  {
   "cell_type": "code",
   "execution_count": 27,
   "metadata": {},
   "outputs": [
    {
     "data": {
      "text/plain": [
       "dict_keys(['hr', 'sample_rate', 'peaklist', 'ybeat', 'rolling_mean', 'RR_list', 'RR_indices', 'RR_diff', 'RR_sqdiff', 'rrsd', 'best', 'removed_beats', 'removed_beats_y', 'binary_peaklist', 'RR_masklist', 'RR_list_cor', 'nn20', 'nn50', 'poincare', 'breathing_signal', 'breathing_psd', 'breathing_frq'])"
      ]
     },
     "execution_count": 27,
     "metadata": {},
     "output_type": "execute_result"
    }
   ],
   "source": [
    "wd.keys()"
   ]
  },
  {
   "cell_type": "code",
   "execution_count": 34,
   "metadata": {},
   "outputs": [
    {
     "data": {
      "text/plain": [
       "(13707,)"
      ]
     },
     "execution_count": 34,
     "metadata": {},
     "output_type": "execute_result"
    }
   ],
   "source": [
    "# Rejected peaks\n",
    "rejectedpeaks = wd['removed_beats']\n",
    "\n",
    "(rejectedpeaks).shape\n"
   ]
  },
  {
   "cell_type": "code",
   "execution_count": 35,
   "metadata": {},
   "outputs": [
    {
     "data": {
      "text/plain": [
       "(17325,)"
      ]
     },
     "execution_count": 35,
     "metadata": {},
     "output_type": "execute_result"
    }
   ],
   "source": [
    "# Accepted peaks\n",
    "peaklist = wd['peaklist']\n",
    "\n",
    "(np.asarray(peaklist)).shape"
   ]
  },
  {
   "cell_type": "markdown",
   "metadata": {},
   "source": [
    "### Update df with the analysis for epochs"
   ]
  },
  {
   "cell_type": "code",
   "execution_count": 14,
   "metadata": {},
   "outputs": [
    {
     "data": {
      "text/plain": [
       "(539418,)"
      ]
     },
     "execution_count": 14,
     "metadata": {},
     "output_type": "execute_result"
    }
   ],
   "source": [
    "wd['hr'].shape"
   ]
  },
  {
   "cell_type": "code",
   "execution_count": 15,
   "metadata": {},
   "outputs": [
    {
     "data": {
      "text/plain": [
       "(539418,)"
      ]
     },
     "execution_count": 15,
     "metadata": {},
     "output_type": "execute_result"
    }
   ],
   "source": [
    "df['ledGreen'].shape"
   ]
  },
  {
   "cell_type": "code",
   "execution_count": null,
   "metadata": {},
   "outputs": [],
   "source": []
  },
  {
   "cell_type": "code",
   "execution_count": null,
   "metadata": {},
   "outputs": [],
   "source": []
  }
 ],
 "metadata": {
  "kernelspec": {
   "display_name": "Python 3.9.0 ('tf')",
   "language": "python",
   "name": "python3"
  },
  "language_info": {
   "codemirror_mode": {
    "name": "ipython",
    "version": 3
   },
   "file_extension": ".py",
   "mimetype": "text/x-python",
   "name": "python",
   "nbconvert_exporter": "python",
   "pygments_lexer": "ipython3",
   "version": "3.9.0"
  },
  "orig_nbformat": 4,
  "vscode": {
   "interpreter": {
    "hash": "7884e113244ffff6edd713e86b3c7e6f0d272676a6838c0ee96a8e2f769e2153"
   }
  }
 },
 "nbformat": 4,
 "nbformat_minor": 2
}
