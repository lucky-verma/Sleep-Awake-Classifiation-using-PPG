{
 "cells": [
  {
   "cell_type": "code",
   "execution_count": 1,
   "metadata": {},
   "outputs": [],
   "source": [
    "import pyedflib\n",
    "import os\n",
    "import shutil\n",
    "import glob\n",
    "import datetime\n",
    "import time\n",
    "import pandas as pd\n",
    "import numpy as np\n",
    "import numpy as np\n",
    "import heartpy as hp\n",
    "import matplotlib.pyplot as plt\n",
    "\n",
    "from numpy import mean, sqrt, square, arange\n",
    "from matplotlib import pyplot as plt\n",
    "from matplotlib.pyplot import figure\n",
    "from sklearn import preprocessing\n",
    "from sklearn.preprocessing import LabelEncoder\n",
    "from sklearn.preprocessing import StandardScaler\n",
    "from sklearn.model_selection import train_test_split\n",
    "from sklearn.metrics import classification_report, confusion_matrix\n",
    "from sklearn.ensemble import RandomForestClassifier"
   ]
  },
  {
   "cell_type": "code",
   "execution_count": 2,
   "metadata": {},
   "outputs": [
    {
     "data": {
      "text/html": [
       "<div>\n",
       "<style scoped>\n",
       "    .dataframe tbody tr th:only-of-type {\n",
       "        vertical-align: middle;\n",
       "    }\n",
       "\n",
       "    .dataframe tbody tr th {\n",
       "        vertical-align: top;\n",
       "    }\n",
       "\n",
       "    .dataframe thead th {\n",
       "        text-align: right;\n",
       "    }\n",
       "</style>\n",
       "<table border=\"1\" class=\"dataframe\">\n",
       "  <thead>\n",
       "    <tr style=\"text-align: right;\">\n",
       "      <th></th>\n",
       "      <th>Unnamed: 0</th>\n",
       "      <th>counter</th>\n",
       "      <th>unixTimes</th>\n",
       "      <th>accelerometerX</th>\n",
       "      <th>accelerometerY</th>\n",
       "      <th>accelerometerZ</th>\n",
       "      <th>capacitorsA</th>\n",
       "      <th>capacitorsB</th>\n",
       "      <th>capacitorsC</th>\n",
       "      <th>gyroscopeX</th>\n",
       "      <th>...</th>\n",
       "      <th>sleep_state</th>\n",
       "      <th>Leg Movement</th>\n",
       "      <th>Hypopnea</th>\n",
       "      <th>Arousal</th>\n",
       "      <th>RERA</th>\n",
       "      <th>Relative Desaturation</th>\n",
       "      <th>Obstructive Apnea</th>\n",
       "      <th>Central Apnea</th>\n",
       "      <th>Leg Movement (L)</th>\n",
       "      <th>Leg Movement (R)</th>\n",
       "    </tr>\n",
       "  </thead>\n",
       "  <tbody>\n",
       "    <tr>\n",
       "      <th>0</th>\n",
       "      <td>2568</td>\n",
       "      <td>2569</td>\n",
       "      <td>1645771253032</td>\n",
       "      <td>1353.0</td>\n",
       "      <td>-472.0</td>\n",
       "      <td>-3934.0</td>\n",
       "      <td>30734.0</td>\n",
       "      <td>NaN</td>\n",
       "      <td>NaN</td>\n",
       "      <td>-149.0</td>\n",
       "      <td>...</td>\n",
       "      <td>-1.0</td>\n",
       "      <td>0</td>\n",
       "      <td>0</td>\n",
       "      <td>0</td>\n",
       "      <td>0</td>\n",
       "      <td>0</td>\n",
       "      <td>0</td>\n",
       "      <td>0</td>\n",
       "      <td>0</td>\n",
       "      <td>0</td>\n",
       "    </tr>\n",
       "    <tr>\n",
       "      <th>1</th>\n",
       "      <td>2569</td>\n",
       "      <td>2574</td>\n",
       "      <td>1645771253039</td>\n",
       "      <td>NaN</td>\n",
       "      <td>NaN</td>\n",
       "      <td>NaN</td>\n",
       "      <td>NaN</td>\n",
       "      <td>NaN</td>\n",
       "      <td>NaN</td>\n",
       "      <td>NaN</td>\n",
       "      <td>...</td>\n",
       "      <td>-1.0</td>\n",
       "      <td>0</td>\n",
       "      <td>0</td>\n",
       "      <td>0</td>\n",
       "      <td>0</td>\n",
       "      <td>0</td>\n",
       "      <td>0</td>\n",
       "      <td>0</td>\n",
       "      <td>0</td>\n",
       "      <td>0</td>\n",
       "    </tr>\n",
       "    <tr>\n",
       "      <th>2</th>\n",
       "      <td>2570</td>\n",
       "      <td>2570</td>\n",
       "      <td>1645771253072</td>\n",
       "      <td>1346.0</td>\n",
       "      <td>-486.0</td>\n",
       "      <td>-3924.0</td>\n",
       "      <td>30733.0</td>\n",
       "      <td>NaN</td>\n",
       "      <td>NaN</td>\n",
       "      <td>-142.0</td>\n",
       "      <td>...</td>\n",
       "      <td>-1.0</td>\n",
       "      <td>0</td>\n",
       "      <td>0</td>\n",
       "      <td>0</td>\n",
       "      <td>0</td>\n",
       "      <td>0</td>\n",
       "      <td>0</td>\n",
       "      <td>0</td>\n",
       "      <td>0</td>\n",
       "      <td>0</td>\n",
       "    </tr>\n",
       "    <tr>\n",
       "      <th>3</th>\n",
       "      <td>2571</td>\n",
       "      <td>2575</td>\n",
       "      <td>1645771253079</td>\n",
       "      <td>NaN</td>\n",
       "      <td>NaN</td>\n",
       "      <td>NaN</td>\n",
       "      <td>NaN</td>\n",
       "      <td>NaN</td>\n",
       "      <td>NaN</td>\n",
       "      <td>NaN</td>\n",
       "      <td>...</td>\n",
       "      <td>-1.0</td>\n",
       "      <td>0</td>\n",
       "      <td>0</td>\n",
       "      <td>0</td>\n",
       "      <td>0</td>\n",
       "      <td>0</td>\n",
       "      <td>0</td>\n",
       "      <td>0</td>\n",
       "      <td>0</td>\n",
       "      <td>0</td>\n",
       "    </tr>\n",
       "    <tr>\n",
       "      <th>4</th>\n",
       "      <td>2572</td>\n",
       "      <td>2571</td>\n",
       "      <td>1645771253112</td>\n",
       "      <td>1342.0</td>\n",
       "      <td>-471.0</td>\n",
       "      <td>-3923.0</td>\n",
       "      <td>30733.0</td>\n",
       "      <td>NaN</td>\n",
       "      <td>NaN</td>\n",
       "      <td>-171.0</td>\n",
       "      <td>...</td>\n",
       "      <td>-1.0</td>\n",
       "      <td>0</td>\n",
       "      <td>0</td>\n",
       "      <td>0</td>\n",
       "      <td>0</td>\n",
       "      <td>0</td>\n",
       "      <td>0</td>\n",
       "      <td>0</td>\n",
       "      <td>0</td>\n",
       "      <td>0</td>\n",
       "    </tr>\n",
       "  </tbody>\n",
       "</table>\n",
       "<p>5 rows × 30 columns</p>\n",
       "</div>"
      ],
      "text/plain": [
       "   Unnamed: 0  counter      unixTimes  accelerometerX  accelerometerY  \\\n",
       "0        2568     2569  1645771253032          1353.0          -472.0   \n",
       "1        2569     2574  1645771253039             NaN             NaN   \n",
       "2        2570     2570  1645771253072          1346.0          -486.0   \n",
       "3        2571     2575  1645771253079             NaN             NaN   \n",
       "4        2572     2571  1645771253112          1342.0          -471.0   \n",
       "\n",
       "   accelerometerZ  capacitorsA  capacitorsB  capacitorsC  gyroscopeX  ...  \\\n",
       "0         -3934.0      30734.0          NaN          NaN      -149.0  ...   \n",
       "1             NaN          NaN          NaN          NaN         NaN  ...   \n",
       "2         -3924.0      30733.0          NaN          NaN      -142.0  ...   \n",
       "3             NaN          NaN          NaN          NaN         NaN  ...   \n",
       "4         -3923.0      30733.0          NaN          NaN      -171.0  ...   \n",
       "\n",
       "   sleep_state  Leg Movement  Hypopnea  Arousal  RERA  Relative Desaturation  \\\n",
       "0         -1.0             0         0        0     0                      0   \n",
       "1         -1.0             0         0        0     0                      0   \n",
       "2         -1.0             0         0        0     0                      0   \n",
       "3         -1.0             0         0        0     0                      0   \n",
       "4         -1.0             0         0        0     0                      0   \n",
       "\n",
       "   Obstructive Apnea  Central Apnea Leg Movement (L) Leg Movement (R)  \n",
       "0                  0              0                0                0  \n",
       "1                  0              0                0                0  \n",
       "2                  0              0                0                0  \n",
       "3                  0              0                0                0  \n",
       "4                  0              0                0                0  \n",
       "\n",
       "[5 rows x 30 columns]"
      ]
     },
     "execution_count": 2,
     "metadata": {},
     "output_type": "execute_result"
    }
   ],
   "source": [
    "# Read raw PPG files\n",
    "path = r'prof_data\\resteaze\\00000192-resteaze-sync.csv'\n",
    "mdf = pd.read_csv(path, sep=',')\n",
    "mdf.head()"
   ]
  },
  {
   "cell_type": "code",
   "execution_count": 3,
   "metadata": {},
   "outputs": [],
   "source": [
    "fname = path.split('\\\\')[-1].split('-')[0]"
   ]
  },
  {
   "cell_type": "markdown",
   "metadata": {},
   "source": [
    "# TODO: Try to get all the data in one row"
   ]
  },
  {
   "cell_type": "code",
   "execution_count": 4,
   "metadata": {},
   "outputs": [
    {
     "data": {
      "text/plain": [
       "Index(['Unnamed: 0', 'counter', 'unixTimes', 'accelerometerX',\n",
       "       'accelerometerY', 'accelerometerZ', 'capacitorsA', 'capacitorsB',\n",
       "       'capacitorsC', 'gyroscopeX', 'gyroscopeY', 'gyroscopeZ', 'ledIR',\n",
       "       'ledRed', 'ledGreen', 'tempObject', 'tempAmbient', 'sync', 'time',\n",
       "       'sleep_stage', 'sleep_state', 'Leg Movement', 'Hypopnea', 'Arousal',\n",
       "       'RERA', 'Relative Desaturation', 'Obstructive Apnea', 'Central Apnea',\n",
       "       'Leg Movement (L)', 'Leg Movement (R)'],\n",
       "      dtype='object')"
      ]
     },
     "execution_count": 4,
     "metadata": {},
     "output_type": "execute_result"
    }
   ],
   "source": [
    "mdf.columns"
   ]
  },
  {
   "cell_type": "code",
   "execution_count": 5,
   "metadata": {},
   "outputs": [
    {
     "data": {
      "text/plain": [
       "1         7636.0\n",
       "3         7639.0\n",
       "5         7639.0\n",
       "7         7638.0\n",
       "9         7634.0\n",
       "           ...  \n",
       "571943    6437.0\n",
       "571945    6445.0\n",
       "571947    6456.0\n",
       "571949    6462.0\n",
       "571951    6465.0\n",
       "Name: ledGreen, Length: 283928, dtype: float64"
      ]
     },
     "execution_count": 5,
     "metadata": {},
     "output_type": "execute_result"
    }
   ],
   "source": [
    "mdf[\"ledGreen\"].dropna()"
   ]
  },
  {
   "cell_type": "code",
   "execution_count": 6,
   "metadata": {},
   "outputs": [],
   "source": [
    "temp = mdf[\"tempObject\"].dropna().to_list()\n",
    "data = []\n",
    "for i in range(len(temp)):\n",
    "    t = temp[i]\n",
    "    for i in range(120):\n",
    "        data.append(t)"
   ]
  },
  {
   "cell_type": "code",
   "execution_count": 7,
   "metadata": {},
   "outputs": [
    {
     "data": {
      "text/plain": [
       "275280"
      ]
     },
     "execution_count": 7,
     "metadata": {},
     "output_type": "execute_result"
    }
   ],
   "source": [
    "len(data)"
   ]
  },
  {
   "cell_type": "code",
   "execution_count": 8,
   "metadata": {},
   "outputs": [],
   "source": [
    "# TODO: Add combined epoch data to the dataframe"
   ]
  },
  {
   "cell_type": "code",
   "execution_count": 9,
   "metadata": {},
   "outputs": [
    {
     "data": {
      "text/html": [
       "<div>\n",
       "<style scoped>\n",
       "    .dataframe tbody tr th:only-of-type {\n",
       "        vertical-align: middle;\n",
       "    }\n",
       "\n",
       "    .dataframe tbody tr th {\n",
       "        vertical-align: top;\n",
       "    }\n",
       "\n",
       "    .dataframe thead th {\n",
       "        text-align: right;\n",
       "    }\n",
       "</style>\n",
       "<table border=\"1\" class=\"dataframe\">\n",
       "  <thead>\n",
       "    <tr style=\"text-align: right;\">\n",
       "      <th></th>\n",
       "      <th>ledGreen</th>\n",
       "      <th>sleep_state</th>\n",
       "    </tr>\n",
       "  </thead>\n",
       "  <tbody>\n",
       "    <tr>\n",
       "      <th>1</th>\n",
       "      <td>7259.0</td>\n",
       "      <td>0</td>\n",
       "    </tr>\n",
       "    <tr>\n",
       "      <th>3</th>\n",
       "      <td>7262.0</td>\n",
       "      <td>0</td>\n",
       "    </tr>\n",
       "    <tr>\n",
       "      <th>4</th>\n",
       "      <td>7262.0</td>\n",
       "      <td>0</td>\n",
       "    </tr>\n",
       "    <tr>\n",
       "      <th>7</th>\n",
       "      <td>7263.0</td>\n",
       "      <td>0</td>\n",
       "    </tr>\n",
       "    <tr>\n",
       "      <th>9</th>\n",
       "      <td>7265.0</td>\n",
       "      <td>0</td>\n",
       "    </tr>\n",
       "    <tr>\n",
       "      <th>...</th>\n",
       "      <td>...</td>\n",
       "      <td>...</td>\n",
       "    </tr>\n",
       "    <tr>\n",
       "      <th>538764</th>\n",
       "      <td>6437.0</td>\n",
       "      <td>1</td>\n",
       "    </tr>\n",
       "    <tr>\n",
       "      <th>538766</th>\n",
       "      <td>6445.0</td>\n",
       "      <td>1</td>\n",
       "    </tr>\n",
       "    <tr>\n",
       "      <th>538768</th>\n",
       "      <td>6456.0</td>\n",
       "      <td>1</td>\n",
       "    </tr>\n",
       "    <tr>\n",
       "      <th>538770</th>\n",
       "      <td>6462.0</td>\n",
       "      <td>1</td>\n",
       "    </tr>\n",
       "    <tr>\n",
       "      <th>538772</th>\n",
       "      <td>6465.0</td>\n",
       "      <td>1</td>\n",
       "    </tr>\n",
       "  </tbody>\n",
       "</table>\n",
       "<p>267455 rows × 2 columns</p>\n",
       "</div>"
      ],
      "text/plain": [
       "        ledGreen  sleep_state\n",
       "1         7259.0            0\n",
       "3         7262.0            0\n",
       "4         7262.0            0\n",
       "7         7263.0            0\n",
       "9         7265.0            0\n",
       "...          ...          ...\n",
       "538764    6437.0            1\n",
       "538766    6445.0            1\n",
       "538768    6456.0            1\n",
       "538770    6462.0            1\n",
       "538772    6465.0            1\n",
       "\n",
       "[267455 rows x 2 columns]"
      ]
     },
     "execution_count": 9,
     "metadata": {},
     "output_type": "execute_result"
    }
   ],
   "source": [
    "df = mdf[mdf.sleep_state != -1].reset_index()\n",
    "\n",
    "df = df[[\n",
    "    'ledGreen',\n",
    "    'sleep_state'\n",
    "]].dropna()\n",
    "# df['sleep_state'] = df['sleep_state'].mask(lambda col: col == -1, 6)\n",
    "\n",
    "# Applying the condition\n",
    "df[\"sleep_state\"] = np.where(df[\"sleep_state\"] == 0, 0, 1)\n",
    "df"
   ]
  },
  {
   "cell_type": "code",
   "execution_count": 10,
   "metadata": {},
   "outputs": [
    {
     "data": {
      "text/plain": [
       "0    160167\n",
       "1    107288\n",
       "Name: sleep_state, dtype: int64"
      ]
     },
     "execution_count": 10,
     "metadata": {},
     "output_type": "execute_result"
    }
   ],
   "source": [
    "df['sleep_state'].value_counts()"
   ]
  },
  {
   "cell_type": "code",
   "execution_count": 11,
   "metadata": {},
   "outputs": [],
   "source": [
    "from scipy.signal import butter, sosfilt, sosfreqz\n",
    "\n",
    "def butter_bandpass(lowcut, highcut, fs, order=5):\n",
    "        nyq = 0.5 * fs\n",
    "        low = lowcut / nyq\n",
    "        high = highcut / nyq\n",
    "        sos = butter(order, [low, high], analog=False, btype='band', output='sos')\n",
    "        return sos\n",
    "\n",
    "def butter_bandpass_filter(data, lowcut, highcut, fs, order=5):\n",
    "        sos = butter_bandpass(lowcut, highcut, fs, order=order)\n",
    "        y = sosfilt(sos, data)\n",
    "        return y\n",
    "\n",
    "# apply bandpass filter\n",
    "\n",
    "fs = 25\n",
    "lowcut = 0.65\n",
    "highcut = 3.0\n",
    "\n",
    "df['ledGreen'] = butter_bandpass_filter(df['ledGreen'], lowcut, highcut, fs, order=4)"
   ]
  },
  {
   "cell_type": "code",
   "execution_count": 12,
   "metadata": {},
   "outputs": [],
   "source": [
    "# plt.plot(df['ledGreen'][800:1024], label='Acc signal (%g Hz)' % 25)\n",
    "# plt.xlabel('time (ms)')\n",
    "# plt.grid(True)\n",
    "# plt.axis('tight')\n",
    "# plt.legend(loc='upper left')\n",
    "\n",
    "# plt.show()\n",
    "\n",
    "# plt.plot(df['ledGreen'][800:1024], label='Bandpass signal (%g Hz)' % 25)\n",
    "# plt.xlabel('time (ms)')\n",
    "# plt.grid(True)\n",
    "# plt.axis('tight')\n",
    "# plt.legend(loc='upper left')\n",
    "\n",
    "# plt.show()\n"
   ]
  },
  {
   "cell_type": "markdown",
   "metadata": {},
   "source": [
    "# Get the analysis for epochs"
   ]
  },
  {
   "cell_type": "code",
   "execution_count": null,
   "metadata": {},
   "outputs": [],
   "source": [
    "import heartpy as hp\n",
    "\n",
    "#run the analysis\n",
    "wd, m = hp.process(np.array(df['ledGreen'][1800:2100]), sample_rate=25.0)\n",
    "\n",
    "#set large figure\n",
    "plt.figure(figsize=(25,4))\n",
    "\n",
    "#call plotter\n",
    "hp.plotter(wd, m)\n",
    "\n",
    "#display measures computed\n",
    "for measure in m.keys():\n",
    "    print('%s: %f' %(measure, m[measure]))"
   ]
  },
  {
   "cell_type": "code",
   "execution_count": 13,
   "metadata": {},
   "outputs": [
    {
     "name": "stderr",
     "output_type": "stream",
     "text": [
      "c:\\Users\\lucki\\anaconda3\\envs\\tf\\lib\\site-packages\\scipy\\interpolate\\fitpack2.py:280: UserWarning: \n",
      "The maximal number of iterations maxit (set to 20 by the program)\n",
      "allowed for finding a smoothing spline with fp=s has been reached: s\n",
      "too small.\n",
      "There is an approximation returned but the corresponding weighted sum\n",
      "of squared residuals does not satisfy the condition abs(fp-s)/s < tol.\n",
      "  warnings.warn(message)\n",
      "c:\\Users\\lucki\\anaconda3\\envs\\tf\\lib\\site-packages\\numpy\\ma\\core.py:5244: RuntimeWarning: Mean of empty slice.\n",
      "  result = super().mean(axis=axis, dtype=dtype, **kwargs)[()]\n",
      "c:\\Users\\lucki\\anaconda3\\envs\\tf\\lib\\site-packages\\numpy\\core\\fromnumeric.py:3723: RuntimeWarning: Degrees of freedom <= 0 for slice\n",
      "  return _methods._var(a, axis=axis, dtype=dtype, out=out, ddof=ddof,\n"
     ]
    }
   ],
   "source": [
    "#run the segmented analysis\n",
    "wd_seg, m_seg = hp.process_segmentwise(np.array(df['ledGreen']), sample_rate=25.0, segment_width = 30)\n"
   ]
  },
  {
   "cell_type": "code",
   "execution_count": 14,
   "metadata": {},
   "outputs": [
    {
     "ename": "NameError",
     "evalue": "name 'seg_wd' is not defined",
     "output_type": "error",
     "traceback": [
      "\u001b[1;31m---------------------------------------------------------------------------\u001b[0m",
      "\u001b[1;31mNameError\u001b[0m                                 Traceback (most recent call last)",
      "Cell \u001b[1;32mIn [14], line 1\u001b[0m\n\u001b[1;32m----> 1\u001b[0m hp\u001b[39m.\u001b[39msegment_plotter(seg_wd, seg_m, title\u001b[39m=\u001b[39m\u001b[39m'\u001b[39m\u001b[39mHeart Rate Signal Peak Detection\u001b[39m\u001b[39m'\u001b[39m, figsize\u001b[39m=\u001b[39m(\u001b[39m25\u001b[39m, \u001b[39m6\u001b[39m), path\u001b[39m=\u001b[39m\u001b[39m'\u001b[39m\u001b[39mheartpy_outputs/\u001b[39m\u001b[39m{}\u001b[39;00m\u001b[39m'\u001b[39m\u001b[39m.\u001b[39mformat(fname), start\u001b[39m=\u001b[39m\u001b[39m0\u001b[39m, end\u001b[39m=\u001b[39m\u001b[39mNone\u001b[39;00m, step\u001b[39m=\u001b[39m\u001b[39m1\u001b[39m)\n",
      "\u001b[1;31mNameError\u001b[0m: name 'seg_wd' is not defined"
     ]
    }
   ],
   "source": [
    "hp.segment_plotter(seg_wd, seg_m, title='Heart Rate Signal Peak Detection', figsize=(25, 6), path='heartpy_outputs/{}'.format(fname), start=0, end=None, step=1)"
   ]
  },
  {
   "cell_type": "code",
   "execution_count": 56,
   "metadata": {},
   "outputs": [],
   "source": [
    "def get_analysis_data(seg_indices, seg_data, fs=25, epoch_length=30, hasData=False):\n",
    "    data = []\n",
    "\n",
    "    for i in range(len(seg_indices)):\n",
    "        tmp = seg_data[i]\n",
    "        if not hasData:\n",
    "            for i in range(fs * epoch_length):\n",
    "                data.append(tmp)\n",
    "        else:\n",
    "            for i in range(len(tmp)):\n",
    "                data.append(tmp[i])\n",
    "\n",
    "    return data\n",
    "\n",
    "fs = 25\n",
    "lowcut =0.55\n",
    "highcut = 3\n",
    "order = 3\n",
    "epoch_length = 30\n",
    "\n",
    "# Create a dataframe the respiration rate and bpm and heart rate variability\n",
    "df_seg = pd.DataFrame()\n",
    "df_seg['bpm'] = get_analysis_data(wd_seg['segment_indices'], m_seg['bpm'], fs, epoch_length)\n",
    "df_seg['hrv'] = get_analysis_data(wd_seg['segment_indices'], m_seg['rmssd'], fs, epoch_length)\n",
    "df_seg['hr'] = get_analysis_data(wd_seg['segment_indices'], wd_seg['hr'], fs, epoch_length, True)\n",
    "df_seg['breathingrate'] = get_analysis_data(wd_seg['segment_indices'], m_seg['breathingrate'] * 1000, fs, epoch_length)\n"
   ]
  },
  {
   "cell_type": "code",
   "execution_count": 58,
   "metadata": {},
   "outputs": [
    {
     "data": {
      "text/html": [
       "<div>\n",
       "<style scoped>\n",
       "    .dataframe tbody tr th:only-of-type {\n",
       "        vertical-align: middle;\n",
       "    }\n",
       "\n",
       "    .dataframe tbody tr th {\n",
       "        vertical-align: top;\n",
       "    }\n",
       "\n",
       "    .dataframe thead th {\n",
       "        text-align: right;\n",
       "    }\n",
       "</style>\n",
       "<table border=\"1\" class=\"dataframe\">\n",
       "  <thead>\n",
       "    <tr style=\"text-align: right;\">\n",
       "      <th></th>\n",
       "      <th>bpm</th>\n",
       "      <th>hrv</th>\n",
       "      <th>hr</th>\n",
       "      <th>breathingrate</th>\n",
       "    </tr>\n",
       "  </thead>\n",
       "  <tbody>\n",
       "    <tr>\n",
       "      <th>0</th>\n",
       "      <td>67.961165</td>\n",
       "      <td>163.095064</td>\n",
       "      <td>34.196952</td>\n",
       "      <td>0.161812</td>\n",
       "    </tr>\n",
       "    <tr>\n",
       "      <th>1</th>\n",
       "      <td>67.961165</td>\n",
       "      <td>163.095064</td>\n",
       "      <td>31.895984</td>\n",
       "      <td>0.161812</td>\n",
       "    </tr>\n",
       "    <tr>\n",
       "      <th>2</th>\n",
       "      <td>67.961165</td>\n",
       "      <td>163.095064</td>\n",
       "      <td>29.436163</td>\n",
       "      <td>0.161812</td>\n",
       "    </tr>\n",
       "    <tr>\n",
       "      <th>3</th>\n",
       "      <td>67.961165</td>\n",
       "      <td>163.095064</td>\n",
       "      <td>27.197439</td>\n",
       "      <td>0.161812</td>\n",
       "    </tr>\n",
       "    <tr>\n",
       "      <th>4</th>\n",
       "      <td>67.961165</td>\n",
       "      <td>163.095064</td>\n",
       "      <td>25.376856</td>\n",
       "      <td>0.161812</td>\n",
       "    </tr>\n",
       "    <tr>\n",
       "      <th>...</th>\n",
       "      <td>...</td>\n",
       "      <td>...</td>\n",
       "      <td>...</td>\n",
       "      <td>...</td>\n",
       "    </tr>\n",
       "    <tr>\n",
       "      <th>266245</th>\n",
       "      <td>65.573770</td>\n",
       "      <td>230.879326</td>\n",
       "      <td>13.706693</td>\n",
       "      <td>0.227687</td>\n",
       "    </tr>\n",
       "    <tr>\n",
       "      <th>266246</th>\n",
       "      <td>65.573770</td>\n",
       "      <td>230.879326</td>\n",
       "      <td>20.957312</td>\n",
       "      <td>0.227687</td>\n",
       "    </tr>\n",
       "    <tr>\n",
       "      <th>266247</th>\n",
       "      <td>65.573770</td>\n",
       "      <td>230.879326</td>\n",
       "      <td>28.907632</td>\n",
       "      <td>0.227687</td>\n",
       "    </tr>\n",
       "    <tr>\n",
       "      <th>266248</th>\n",
       "      <td>65.573770</td>\n",
       "      <td>230.879326</td>\n",
       "      <td>35.824982</td>\n",
       "      <td>0.227687</td>\n",
       "    </tr>\n",
       "    <tr>\n",
       "      <th>266249</th>\n",
       "      <td>65.573770</td>\n",
       "      <td>230.879326</td>\n",
       "      <td>40.540023</td>\n",
       "      <td>0.227687</td>\n",
       "    </tr>\n",
       "  </tbody>\n",
       "</table>\n",
       "<p>266250 rows × 4 columns</p>\n",
       "</div>"
      ],
      "text/plain": [
       "              bpm         hrv         hr  breathingrate\n",
       "0       67.961165  163.095064  34.196952       0.161812\n",
       "1       67.961165  163.095064  31.895984       0.161812\n",
       "2       67.961165  163.095064  29.436163       0.161812\n",
       "3       67.961165  163.095064  27.197439       0.161812\n",
       "4       67.961165  163.095064  25.376856       0.161812\n",
       "...           ...         ...        ...            ...\n",
       "266245  65.573770  230.879326  13.706693       0.227687\n",
       "266246  65.573770  230.879326  20.957312       0.227687\n",
       "266247  65.573770  230.879326  28.907632       0.227687\n",
       "266248  65.573770  230.879326  35.824982       0.227687\n",
       "266249  65.573770  230.879326  40.540023       0.227687\n",
       "\n",
       "[266250 rows x 4 columns]"
      ]
     },
     "execution_count": 58,
     "metadata": {},
     "output_type": "execute_result"
    }
   ],
   "source": [
    "df_seg"
   ]
  },
  {
   "cell_type": "code",
   "execution_count": 45,
   "metadata": {},
   "outputs": [
    {
     "data": {
      "text/plain": [
       "array([13.70669347, 20.95731211, 28.90763241, 35.82498188, 40.54002334])"
      ]
     },
     "execution_count": 45,
     "metadata": {},
     "output_type": "execute_result"
    }
   ],
   "source": [
    "wd_seg['hr'][-1][-5:]"
   ]
  },
  {
   "cell_type": "markdown",
   "metadata": {},
   "source": [
    "#### Number of accepted and rejected peaks"
   ]
  },
  {
   "cell_type": "code",
   "execution_count": null,
   "metadata": {},
   "outputs": [],
   "source": [
    "wd.keys()"
   ]
  },
  {
   "cell_type": "code",
   "execution_count": null,
   "metadata": {},
   "outputs": [],
   "source": [
    "# Rejected peaks\n",
    "rejectedpeaks = wd['removed_beats']\n",
    "\n",
    "(rejectedpeaks).shape"
   ]
  },
  {
   "cell_type": "code",
   "execution_count": null,
   "metadata": {},
   "outputs": [],
   "source": [
    "# Accepted peaks\n",
    "peaklist = wd['peaklist']\n",
    "\n",
    "(np.asarray(peaklist)).shape"
   ]
  },
  {
   "cell_type": "markdown",
   "metadata": {},
   "source": [
    "### Update df with the analysis for epochs"
   ]
  },
  {
   "cell_type": "code",
   "execution_count": null,
   "metadata": {},
   "outputs": [],
   "source": [
    "wd['hr'].shape"
   ]
  },
  {
   "cell_type": "code",
   "execution_count": null,
   "metadata": {},
   "outputs": [],
   "source": [
    "df['ledGreen'].shape"
   ]
  },
  {
   "cell_type": "code",
   "execution_count": null,
   "metadata": {},
   "outputs": [],
   "source": [
    "seg_wd.keys(), seg_m.keys()"
   ]
  },
  {
   "cell_type": "code",
   "execution_count": null,
   "metadata": {},
   "outputs": [],
   "source": [
    "len(seg_m['bpm'])"
   ]
  },
  {
   "cell_type": "code",
   "execution_count": null,
   "metadata": {},
   "outputs": [],
   "source": [
    "len(seg_wd['RR_list'])"
   ]
  },
  {
   "cell_type": "code",
   "execution_count": null,
   "metadata": {},
   "outputs": [],
   "source": [
    "len(seg_wd['hr'])"
   ]
  },
  {
   "cell_type": "code",
   "execution_count": null,
   "metadata": {},
   "outputs": [],
   "source": []
  },
  {
   "cell_type": "code",
   "execution_count": null,
   "metadata": {},
   "outputs": [],
   "source": []
  }
 ],
 "metadata": {
  "kernelspec": {
   "display_name": "Python 3.9.0 ('tf')",
   "language": "python",
   "name": "python3"
  },
  "language_info": {
   "codemirror_mode": {
    "name": "ipython",
    "version": 3
   },
   "file_extension": ".py",
   "mimetype": "text/x-python",
   "name": "python",
   "nbconvert_exporter": "python",
   "pygments_lexer": "ipython3",
   "version": "3.9.0"
  },
  "orig_nbformat": 4,
  "vscode": {
   "interpreter": {
    "hash": "7884e113244ffff6edd713e86b3c7e6f0d272676a6838c0ee96a8e2f769e2153"
   }
  }
 },
 "nbformat": 4,
 "nbformat_minor": 2
}
