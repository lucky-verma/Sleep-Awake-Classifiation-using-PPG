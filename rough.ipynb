{
 "cells": [
  {
   "cell_type": "code",
   "execution_count": 60,
   "metadata": {},
   "outputs": [],
   "source": [
    "import pandas as pd\n",
    "import numpy as np\n",
    "import pyedflib\n",
    "import os\n",
    "import shutil\n",
    "import glob\n",
    "import datetime\n",
    "from matplotlib import pyplot as plt"
   ]
  },
  {
   "cell_type": "code",
   "execution_count": 61,
   "metadata": {},
   "outputs": [
    {
     "data": {
      "text/html": [
       "<div>\n",
       "<style scoped>\n",
       "    .dataframe tbody tr th:only-of-type {\n",
       "        vertical-align: middle;\n",
       "    }\n",
       "\n",
       "    .dataframe tbody tr th {\n",
       "        vertical-align: top;\n",
       "    }\n",
       "\n",
       "    .dataframe thead th {\n",
       "        text-align: right;\n",
       "    }\n",
       "</style>\n",
       "<table border=\"1\" class=\"dataframe\">\n",
       "  <thead>\n",
       "    <tr style=\"text-align: right;\">\n",
       "      <th></th>\n",
       "      <th>Unnamed: 0</th>\n",
       "      <th>counter</th>\n",
       "      <th>unixTimes</th>\n",
       "      <th>accelerometerX</th>\n",
       "      <th>accelerometerY</th>\n",
       "      <th>accelerometerZ</th>\n",
       "      <th>capacitorsA</th>\n",
       "      <th>capacitorsB</th>\n",
       "      <th>capacitorsC</th>\n",
       "      <th>gyroscopeX</th>\n",
       "      <th>...</th>\n",
       "      <th>Leg Movement</th>\n",
       "      <th>Hypopnea</th>\n",
       "      <th>Arousal</th>\n",
       "      <th>RERA</th>\n",
       "      <th>Relative Desaturation</th>\n",
       "      <th>Obstructive Apnea</th>\n",
       "      <th>Central Apnea</th>\n",
       "      <th>Leg Movement (L)</th>\n",
       "      <th>Leg Movement (R)</th>\n",
       "      <th>shifted_unixTimes</th>\n",
       "    </tr>\n",
       "  </thead>\n",
       "  <tbody>\n",
       "    <tr>\n",
       "      <th>0</th>\n",
       "      <td>187659</td>\n",
       "      <td>187686</td>\n",
       "      <td>1.643780e+12</td>\n",
       "      <td>-118.0</td>\n",
       "      <td>286.0</td>\n",
       "      <td>-4224.0</td>\n",
       "      <td>0.0</td>\n",
       "      <td>NaN</td>\n",
       "      <td>NaN</td>\n",
       "      <td>109.0</td>\n",
       "      <td>...</td>\n",
       "      <td>0</td>\n",
       "      <td>0</td>\n",
       "      <td>0</td>\n",
       "      <td>0</td>\n",
       "      <td>0</td>\n",
       "      <td>0</td>\n",
       "      <td>0</td>\n",
       "      <td>0</td>\n",
       "      <td>0</td>\n",
       "      <td>1.643780e+12</td>\n",
       "    </tr>\n",
       "    <tr>\n",
       "      <th>1</th>\n",
       "      <td>187660</td>\n",
       "      <td>187691</td>\n",
       "      <td>1.643780e+12</td>\n",
       "      <td>NaN</td>\n",
       "      <td>NaN</td>\n",
       "      <td>NaN</td>\n",
       "      <td>NaN</td>\n",
       "      <td>NaN</td>\n",
       "      <td>NaN</td>\n",
       "      <td>NaN</td>\n",
       "      <td>...</td>\n",
       "      <td>0</td>\n",
       "      <td>0</td>\n",
       "      <td>0</td>\n",
       "      <td>0</td>\n",
       "      <td>0</td>\n",
       "      <td>0</td>\n",
       "      <td>0</td>\n",
       "      <td>0</td>\n",
       "      <td>0</td>\n",
       "      <td>1.643780e+12</td>\n",
       "    </tr>\n",
       "    <tr>\n",
       "      <th>2</th>\n",
       "      <td>187661</td>\n",
       "      <td>187687</td>\n",
       "      <td>1.643780e+12</td>\n",
       "      <td>-122.0</td>\n",
       "      <td>281.0</td>\n",
       "      <td>-4214.0</td>\n",
       "      <td>0.0</td>\n",
       "      <td>NaN</td>\n",
       "      <td>NaN</td>\n",
       "      <td>77.0</td>\n",
       "      <td>...</td>\n",
       "      <td>0</td>\n",
       "      <td>0</td>\n",
       "      <td>0</td>\n",
       "      <td>0</td>\n",
       "      <td>0</td>\n",
       "      <td>0</td>\n",
       "      <td>0</td>\n",
       "      <td>0</td>\n",
       "      <td>0</td>\n",
       "      <td>1.643780e+12</td>\n",
       "    </tr>\n",
       "    <tr>\n",
       "      <th>3</th>\n",
       "      <td>187662</td>\n",
       "      <td>187692</td>\n",
       "      <td>1.643780e+12</td>\n",
       "      <td>NaN</td>\n",
       "      <td>NaN</td>\n",
       "      <td>NaN</td>\n",
       "      <td>NaN</td>\n",
       "      <td>NaN</td>\n",
       "      <td>NaN</td>\n",
       "      <td>NaN</td>\n",
       "      <td>...</td>\n",
       "      <td>0</td>\n",
       "      <td>0</td>\n",
       "      <td>0</td>\n",
       "      <td>0</td>\n",
       "      <td>0</td>\n",
       "      <td>0</td>\n",
       "      <td>0</td>\n",
       "      <td>0</td>\n",
       "      <td>0</td>\n",
       "      <td>1.643780e+12</td>\n",
       "    </tr>\n",
       "    <tr>\n",
       "      <th>4</th>\n",
       "      <td>187663</td>\n",
       "      <td>187688</td>\n",
       "      <td>1.643780e+12</td>\n",
       "      <td>-133.0</td>\n",
       "      <td>279.0</td>\n",
       "      <td>-4212.0</td>\n",
       "      <td>0.0</td>\n",
       "      <td>NaN</td>\n",
       "      <td>NaN</td>\n",
       "      <td>82.0</td>\n",
       "      <td>...</td>\n",
       "      <td>0</td>\n",
       "      <td>0</td>\n",
       "      <td>0</td>\n",
       "      <td>0</td>\n",
       "      <td>0</td>\n",
       "      <td>0</td>\n",
       "      <td>0</td>\n",
       "      <td>0</td>\n",
       "      <td>0</td>\n",
       "      <td>1.643780e+12</td>\n",
       "    </tr>\n",
       "  </tbody>\n",
       "</table>\n",
       "<p>5 rows × 31 columns</p>\n",
       "</div>"
      ],
      "text/plain": [
       "   Unnamed: 0  counter     unixTimes  accelerometerX  accelerometerY  \\\n",
       "0      187659   187686  1.643780e+12          -118.0           286.0   \n",
       "1      187660   187691  1.643780e+12             NaN             NaN   \n",
       "2      187661   187687  1.643780e+12          -122.0           281.0   \n",
       "3      187662   187692  1.643780e+12             NaN             NaN   \n",
       "4      187663   187688  1.643780e+12          -133.0           279.0   \n",
       "\n",
       "   accelerometerZ  capacitorsA  capacitorsB  capacitorsC  gyroscopeX  ...  \\\n",
       "0         -4224.0          0.0          NaN          NaN       109.0  ...   \n",
       "1             NaN          NaN          NaN          NaN         NaN  ...   \n",
       "2         -4214.0          0.0          NaN          NaN        77.0  ...   \n",
       "3             NaN          NaN          NaN          NaN         NaN  ...   \n",
       "4         -4212.0          0.0          NaN          NaN        82.0  ...   \n",
       "\n",
       "   Leg Movement  Hypopnea  Arousal  RERA  Relative Desaturation  \\\n",
       "0             0         0        0     0                      0   \n",
       "1             0         0        0     0                      0   \n",
       "2             0         0        0     0                      0   \n",
       "3             0         0        0     0                      0   \n",
       "4             0         0        0     0                      0   \n",
       "\n",
       "   Obstructive Apnea  Central Apnea  Leg Movement (L) Leg Movement (R)  \\\n",
       "0                  0              0                 0                0   \n",
       "1                  0              0                 0                0   \n",
       "2                  0              0                 0                0   \n",
       "3                  0              0                 0                0   \n",
       "4                  0              0                 0                0   \n",
       "\n",
       "  shifted_unixTimes  \n",
       "0      1.643780e+12  \n",
       "1      1.643780e+12  \n",
       "2      1.643780e+12  \n",
       "3      1.643780e+12  \n",
       "4      1.643780e+12  \n",
       "\n",
       "[5 rows x 31 columns]"
      ]
     },
     "execution_count": 61,
     "metadata": {},
     "output_type": "execute_result"
    }
   ],
   "source": [
    "# Read raw PPG files\n",
    "\n",
    "mdf = pd.read_csv(r'prof_data\\resteaze\\00000175-resteaze-sync.csv', sep=',')\n",
    "mdf.head()"
   ]
  },
  {
   "cell_type": "code",
   "execution_count": 62,
   "metadata": {},
   "outputs": [
    {
     "data": {
      "text/html": [
       "<div>\n",
       "<style scoped>\n",
       "    .dataframe tbody tr th:only-of-type {\n",
       "        vertical-align: middle;\n",
       "    }\n",
       "\n",
       "    .dataframe tbody tr th {\n",
       "        vertical-align: top;\n",
       "    }\n",
       "\n",
       "    .dataframe thead th {\n",
       "        text-align: right;\n",
       "    }\n",
       "</style>\n",
       "<table border=\"1\" class=\"dataframe\">\n",
       "  <thead>\n",
       "    <tr style=\"text-align: right;\">\n",
       "      <th></th>\n",
       "      <th>ledGreen</th>\n",
       "      <th>sleep_stage</th>\n",
       "      <th>sleep_state</th>\n",
       "    </tr>\n",
       "  </thead>\n",
       "  <tbody>\n",
       "    <tr>\n",
       "      <th>12097</th>\n",
       "      <td>3267.0</td>\n",
       "      <td>WK</td>\n",
       "      <td>0</td>\n",
       "    </tr>\n",
       "    <tr>\n",
       "      <th>12099</th>\n",
       "      <td>3266.0</td>\n",
       "      <td>WK</td>\n",
       "      <td>0</td>\n",
       "    </tr>\n",
       "    <tr>\n",
       "      <th>12101</th>\n",
       "      <td>3268.0</td>\n",
       "      <td>WK</td>\n",
       "      <td>0</td>\n",
       "    </tr>\n",
       "    <tr>\n",
       "      <th>12103</th>\n",
       "      <td>3265.0</td>\n",
       "      <td>WK</td>\n",
       "      <td>0</td>\n",
       "    </tr>\n",
       "    <tr>\n",
       "      <th>12106</th>\n",
       "      <td>3265.0</td>\n",
       "      <td>WK</td>\n",
       "      <td>0</td>\n",
       "    </tr>\n",
       "  </tbody>\n",
       "</table>\n",
       "</div>"
      ],
      "text/plain": [
       "       ledGreen sleep_stage  sleep_state\n",
       "12097    3267.0          WK            0\n",
       "12099    3266.0          WK            0\n",
       "12101    3268.0          WK            0\n",
       "12103    3265.0          WK            0\n",
       "12106    3265.0          WK            0"
      ]
     },
     "execution_count": 62,
     "metadata": {},
     "output_type": "execute_result"
    }
   ],
   "source": [
    "df = mdf[['ledGreen', 'sleep_stage', 'sleep_state']].dropna()\n",
    "# df['sleep_state'] = df['sleep_state'].mask(lambda col: col == -1, 6)\n",
    "\n",
    "df = df[df.sleep_state != -1]\n",
    "\n",
    "# Applying the condition\n",
    "df[\"sleep_state\"] = np.where(df[\"sleep_state\"] == 0, 0, 1)\n",
    "df.head()"
   ]
  },
  {
   "cell_type": "code",
   "execution_count": 64,
   "metadata": {},
   "outputs": [
    {
     "data": {
      "text/plain": [
       "(N2     168324\n",
       " WK     136580\n",
       " N3     110464\n",
       " REM     61198\n",
       " N1      35079\n",
       " Name: sleep_stage, dtype: int64,\n",
       " 1    375065\n",
       " 0    136580\n",
       " Name: sleep_state, dtype: int64)"
      ]
     },
     "execution_count": 64,
     "metadata": {},
     "output_type": "execute_result"
    }
   ],
   "source": [
    "df['sleep_stage'].value_counts(), df['sleep_state'].value_counts()"
   ]
  },
  {
   "cell_type": "markdown",
   "metadata": {},
   "source": [
    "#### Apply band pass filter to the signal"
   ]
  },
  {
   "cell_type": "code",
   "execution_count": 65,
   "metadata": {},
   "outputs": [],
   "source": [
    "from scipy.signal import butter, sosfilt, sosfreqz\n",
    "\n",
    "def butter_bandpass(lowcut, highcut, fs, order=5):\n",
    "        nyq = 0.5 * fs\n",
    "        low = lowcut / nyq\n",
    "        high = highcut / nyq\n",
    "        sos = butter(order, [low, high], analog=False, btype='band', output='sos')\n",
    "        return sos\n",
    "\n",
    "def butter_bandpass_filter(data, lowcut, highcut, fs, order=5):\n",
    "        sos = butter_bandpass(lowcut, highcut, fs, order=order)\n",
    "        y = sosfilt(sos, data)\n",
    "        return y"
   ]
  },
  {
   "cell_type": "code",
   "execution_count": 68,
   "metadata": {},
   "outputs": [],
   "source": [
    "# apply bandpass filter\n",
    "\n",
    "fs = 25\n",
    "lowcut = 0.35\n",
    "highcut = 5.0\n",
    "\n",
    "pro_ppg = butter_bandpass_filter(df['ledGreen'], lowcut, highcut, fs, order=5)"
   ]
  },
  {
   "cell_type": "code",
   "execution_count": 69,
   "metadata": {},
   "outputs": [
    {
     "data": {
      "image/png": "[encoded data removed]",
      "text/plain": [
       "<Figure size 432x288 with 1 Axes>"
      ]
     },
     "metadata": {
      "needs_background": "light"
     },
     "output_type": "display_data"
    }
   ],
   "source": [
    "plt.plot(pro_ppg[800:1024], label='Filtered signal (%g Hz)' % 25)\n",
    "plt.xlabel('time (ms)')\n",
    "plt.grid(True)\n",
    "plt.axis('tight')\n",
    "plt.legend(loc='upper left')\n",
    "\n",
    "plt.show()"
   ]
  },
  {
   "cell_type": "code",
   "execution_count": 70,
   "metadata": {},
   "outputs": [
    {
     "data": {
      "text/plain": [
       "145"
      ]
     },
     "execution_count": 70,
     "metadata": {},
     "output_type": "execute_result"
    }
   ],
   "source": [
    "pro_ppg.shape[0] % 750"
   ]
  },
  {
   "cell_type": "code",
   "execution_count": 71,
   "metadata": {},
   "outputs": [],
   "source": [
    "ppg_signals = pro_ppg[:-(pro_ppg.shape[0] % 750)].reshape(-1, 750)"
   ]
  },
  {
   "cell_type": "code",
   "execution_count": 72,
   "metadata": {},
   "outputs": [
    {
     "data": {
      "text/plain": [
       "(682, 750)"
      ]
     },
     "execution_count": 72,
     "metadata": {},
     "output_type": "execute_result"
    }
   ],
   "source": [
    "ppg_signals.shape"
   ]
  },
  {
   "cell_type": "code",
   "execution_count": 73,
   "metadata": {},
   "outputs": [
    {
     "data": {
      "text/plain": [
       "datetime.datetime(2022, 2, 2, 0, 33, 20)"
      ]
     },
     "execution_count": 73,
     "metadata": {},
     "output_type": "execute_result"
    }
   ],
   "source": [
    "timestamp = mdf['unixTimes'][0]\n",
    "\n",
    "datetime.datetime.fromtimestamp(timestamp / 1000)"
   ]
  },
  {
   "cell_type": "code",
   "execution_count": null,
   "metadata": {},
   "outputs": [],
   "source": []
  },
  {
   "cell_type": "code",
   "execution_count": null,
   "metadata": {},
   "outputs": [],
   "source": []
  },
  {
   "cell_type": "markdown",
   "metadata": {},
   "source": [
    "## Check EDF files for reference"
   ]
  },
  {
   "cell_type": "code",
   "execution_count": null,
   "metadata": {},
   "outputs": [],
   "source": [
    "# Read raw and annotation from EDF files\n",
    "psg_fnames = glob.glob(os.path.join(\"./data/sleepedf/sleep-cassette\", \"*PSG.edf\"))\n",
    "ann_fnames = glob.glob(os.path.join(\"./data/sleepedf/sleep-cassette\", \"*Hypnogram.edf\"))\n",
    "psg_fnames.sort()\n",
    "ann_fnames.sort()\n",
    "psg_fnames = np.asarray(psg_fnames)\n",
    "ann_fnames = np.asarray(ann_fnames)"
   ]
  },
  {
   "cell_type": "code",
   "execution_count": null,
   "metadata": {},
   "outputs": [],
   "source": [
    "i = 0\n",
    "\n",
    "psg_f = pyedflib.EdfReader(psg_fnames[i])\n",
    "ann_f = pyedflib.EdfReader(ann_fnames[i])\n",
    "\n",
    "assert psg_f.getStartdatetime() == ann_f.getStartdatetime()\n",
    "start_datetime = psg_f.getStartdatetime()"
   ]
  },
  {
   "cell_type": "code",
   "execution_count": null,
   "metadata": {},
   "outputs": [],
   "source": [
    "psg_f.getFileDuration()"
   ]
  },
  {
   "cell_type": "code",
   "execution_count": null,
   "metadata": {},
   "outputs": [],
   "source": [
    "psg_f.datarecord_duration"
   ]
  },
  {
   "cell_type": "code",
   "execution_count": null,
   "metadata": {},
   "outputs": [],
   "source": [
    "# Extract signal from the selected channel\n",
    "psg_f.getSignalLabels()"
   ]
  },
  {
   "cell_type": "code",
   "execution_count": null,
   "metadata": {},
   "outputs": [],
   "source": [
    "psg_f.getNSamples()"
   ]
  },
  {
   "cell_type": "code",
   "execution_count": null,
   "metadata": {},
   "outputs": [],
   "source": [
    "\n",
    "sampling_rate = psg_f.getSampleFrequency(0)\n",
    "n_epoch_samples = int(30 * sampling_rate)\n",
    "signals = psg_f.readSignal(0).reshape(-1, n_epoch_samples)"
   ]
  },
  {
   "cell_type": "code",
   "execution_count": null,
   "metadata": {},
   "outputs": [],
   "source": [
    "sampling_rate, n_epoch_samples, psg_f.readSignal(0).shape, signals.shape"
   ]
  },
  {
   "cell_type": "code",
   "execution_count": null,
   "metadata": {},
   "outputs": [],
   "source": [
    "signals.shape"
   ]
  },
  {
   "cell_type": "code",
   "execution_count": null,
   "metadata": {},
   "outputs": [],
   "source": [
    "plt.plot(signals[0])"
   ]
  },
  {
   "cell_type": "code",
   "execution_count": null,
   "metadata": {},
   "outputs": [],
   "source": [
    "\n",
    "ann_onsets, ann_durations, ann_stages = ann_f.readAnnotations()"
   ]
  },
  {
   "cell_type": "code",
   "execution_count": null,
   "metadata": {},
   "outputs": [],
   "source": [
    "# Have to manually define based on the dataset\n",
    "ann2label = {\n",
    "    \"Sleep stage W\": 0,\n",
    "    \"Sleep stage 1\": 1,\n",
    "    \"Sleep stage 2\": 2,\n",
    "    \"Sleep stage 3\": 3,\n",
    "    \"Sleep stage 4\": 3,  # Follow AASM Manual\n",
    "    \"Sleep stage R\": 4,\n",
    "    \"Sleep stage ?\": 6,\n",
    "    \"Movement time\": 5\n",
    "}\n",
    "\n",
    "\n",
    "# Generate labels from onset and duration annotation\n",
    "labels = []\n",
    "total_duration = 0\n",
    "ann_onsets, ann_durations, ann_stages = ann_f.readAnnotations()\n",
    "for a in range(len(ann_stages)):\n",
    "    onset_sec = int(ann_onsets[a])\n",
    "    duration_sec = int(ann_durations[a])\n",
    "    ann_str = \"\".join(ann_stages[a])\n",
    "\n",
    "    # Sanity check\n",
    "    assert onset_sec == total_duration\n",
    "\n",
    "    # Get label value\n",
    "    label = ann2label[ann_str]\n",
    "\n",
    "    # Compute # of epoch for this stage\n",
    "    duration_epoch = int(duration_sec / 30)\n",
    "\n",
    "    # Generate sleep stage labels\n",
    "    label_epoch = np.ones(duration_epoch, dtype=np.int) * label\n",
    "    labels.append(label_epoch)\n",
    "\n",
    "    total_duration += duration_sec\n",
    "\n",
    "labels = np.hstack(labels)"
   ]
  },
  {
   "cell_type": "code",
   "execution_count": null,
   "metadata": {},
   "outputs": [],
   "source": [
    "\n",
    "# Remove annotations that are longer than the recorded signals\n",
    "labels = labels[:len(signals)]\n"
   ]
  },
  {
   "cell_type": "code",
   "execution_count": null,
   "metadata": {},
   "outputs": [],
   "source": [
    "# Get epochs and their corresponding labels\n",
    "x = signals.astype(np.float32)\n",
    "y = labels.astype(np.int32)"
   ]
  },
  {
   "cell_type": "code",
   "execution_count": null,
   "metadata": {},
   "outputs": [],
   "source": [
    "from sleepstage import stage_dict\n",
    "\n",
    "# Select only sleep periods\n",
    "w_edge_mins = 30\n",
    "nw_idx = np.where(y != stage_dict[\"W\"])[0]\n",
    "start_idx = nw_idx[0] - (w_edge_mins * 2)\n",
    "end_idx = nw_idx[-1] + (w_edge_mins * 2)\n",
    "if start_idx < 0: start_idx = 0\n",
    "if end_idx >= len(y): end_idx = len(y) - 1\n",
    "select_idx = np.arange(start_idx, end_idx+1)\n",
    "x = x[select_idx]\n",
    "y = y[select_idx]\n",
    "print(\"Shape before movement remove\", x.shape, y.shape)\n",
    "\n",
    "# Remove movement and unknown\n",
    "move_idx = np.where(y == stage_dict[\"MOVE\"])[0]\n",
    "unk_idx = np.where(y == stage_dict[\"UNK\"])[0]\n",
    "if len(move_idx) > 0 or len(unk_idx) > 0:\n",
    "    remove_idx = np.union1d(move_idx, unk_idx)\n",
    "    print(\"Remove irrelavant stages\")\n",
    "    print(\"  Movement: ({}) {}\".format(len(move_idx), move_idx))\n",
    "    print(\"  Unknown: ({}) {}\".format(len(unk_idx), unk_idx))\n",
    "    print(\"  Remove: ({}) {}\".format(len(remove_idx), remove_idx))\n",
    "    print(\"  Data before removal: {}, {}\".format(x.shape, y.shape))\n",
    "    select_idx = np.setdiff1d(np.arange(len(x)), remove_idx)\n",
    "    x = x[select_idx]\n",
    "    y = y[select_idx]\n",
    "    print(\"  Data after removal: {}, {}\".format(x.shape, y.shape))"
   ]
  },
  {
   "cell_type": "code",
   "execution_count": null,
   "metadata": {},
   "outputs": [],
   "source": [
    "# Plot the distribution of sleep stages\n",
    "\n",
    "plt.plot(x[0])"
   ]
  },
  {
   "cell_type": "code",
   "execution_count": null,
   "metadata": {},
   "outputs": [],
   "source": []
  },
  {
   "cell_type": "code",
   "execution_count": null,
   "metadata": {},
   "outputs": [],
   "source": []
  },
  {
   "cell_type": "markdown",
   "metadata": {},
   "source": [
    "### Visualize the predictions"
   ]
  },
  {
   "cell_type": "code",
   "execution_count": 103,
   "metadata": {},
   "outputs": [],
   "source": [
    "from numpy import load\n",
    "\n",
    "from matplotlib import pyplot as plt\n",
    "\n",
    "data = load(r'out_resteaze\\predict\\pred_00000191-resteaze-sync.npz')\n"
   ]
  },
  {
   "cell_type": "code",
   "execution_count": 104,
   "metadata": {},
   "outputs": [],
   "source": [
    "preds = pd.DataFrame(data=zip(data['y_true'],data['y_pred']),columns=['True','Preds'])"
   ]
  },
  {
   "cell_type": "code",
   "execution_count": 105,
   "metadata": {},
   "outputs": [
    {
     "data": {
      "image/png": "[encoded data removed]",
      "text/plain": [
       "<Figure size 1440x360 with 1 Axes>"
      ]
     },
     "metadata": {
      "needs_background": "light"
     },
     "output_type": "display_data"
    }
   ],
   "source": [
    "# figure size\n",
    "plt.figure(figsize=(20,5))\n",
    "\n",
    "plt.plot(preds['True'], label='True')\n",
    "plt.plot(preds['Preds'], label='Preds')\n",
    "plt.legend(loc='upper left')\n",
    "\n",
    "plt.show();"
   ]
  },
  {
   "cell_type": "code",
   "execution_count": null,
   "metadata": {},
   "outputs": [],
   "source": [
    "import numpy as np\n",
    "import pandas as pd\n",
    "from pretty_confusion_matrix import pp_matrix\n",
    "\n",
    "array = np.array([[13, 0, 1, 0, 2, 0], [0, 50, 2, 0, 10, 0],\n",
    "                  [0, 13, 16, 0, 0, 3], [0, 0, 0, 13, 1, 0],\n",
    "                  [0, 40, 0, 1, 15, 0], [0, 0, 0, 0, 0, 20]])\n",
    "\n",
    "# get pandas dataframe\n",
    "df_cm = pd.DataFrame(array, index=range(1, 7), columns=range(1, 7))\n",
    "# colormap: see this and choose your more dear\n",
    "cmap = 'PuRd'\n",
    "pp_matrix(df_cm, cmap=cmap)"
   ]
  },
  {
   "cell_type": "code",
   "execution_count": null,
   "metadata": {},
   "outputs": [],
   "source": []
  },
  {
   "cell_type": "code",
   "execution_count": null,
   "metadata": {},
   "outputs": [],
   "source": []
  }
 ],
 "metadata": {
  "kernelspec": {
   "display_name": "Python 3.8.13 ('ml')",
   "language": "python",
   "name": "python3"
  },
  "language_info": {
   "codemirror_mode": {
    "name": "ipython",
    "version": 3
   },
   "file_extension": ".py",
   "mimetype": "text/x-python",
   "name": "python",
   "nbconvert_exporter": "python",
   "pygments_lexer": "ipython3",
   "version": "3.8.13"
  },
  "orig_nbformat": 4,
  "vscode": {
   "interpreter": {
    "hash": "116d2a9f8f87e7e116b9718681d201753eabc86f508c156c541b17dc772bc6ff"
   }
  }
 },
 "nbformat": 4,
 "nbformat_minor": 2
}
