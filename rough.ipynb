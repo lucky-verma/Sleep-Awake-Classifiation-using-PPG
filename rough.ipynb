{
 "cells": [
  {
   "cell_type": "code",
   "execution_count": 1,
   "metadata": {},
   "outputs": [],
   "source": [
    "import pandas as pd\n",
    "import numpy as np\n",
    "import pyedflib\n",
    "import os\n",
    "import shutil\n",
    "import glob\n",
    "from matplotlib import pyplot as plt"
   ]
  },
  {
   "cell_type": "code",
   "execution_count": 2,
   "metadata": {},
   "outputs": [],
   "source": [
    "# Read raw PPG files\n",
    "\n",
    "df = pd.read_csv('00000175-resteaze-sync.csv', sep=',')"
   ]
  },
  {
   "cell_type": "code",
   "execution_count": 3,
   "metadata": {},
   "outputs": [
    {
     "data": {
      "text/html": [
       "<div>\n",
       "<style scoped>\n",
       "    .dataframe tbody tr th:only-of-type {\n",
       "        vertical-align: middle;\n",
       "    }\n",
       "\n",
       "    .dataframe tbody tr th {\n",
       "        vertical-align: top;\n",
       "    }\n",
       "\n",
       "    .dataframe thead th {\n",
       "        text-align: right;\n",
       "    }\n",
       "</style>\n",
       "<table border=\"1\" class=\"dataframe\">\n",
       "  <thead>\n",
       "    <tr style=\"text-align: right;\">\n",
       "      <th></th>\n",
       "      <th>LedGreen</th>\n",
       "      <th>sleep_stage</th>\n",
       "      <th>sleep_state</th>\n",
       "    </tr>\n",
       "  </thead>\n",
       "  <tbody>\n",
       "    <tr>\n",
       "      <th>1</th>\n",
       "      <td>2959.0</td>\n",
       "      <td>NS</td>\n",
       "      <td>-1.0</td>\n",
       "    </tr>\n",
       "    <tr>\n",
       "      <th>3</th>\n",
       "      <td>2959.0</td>\n",
       "      <td>NS</td>\n",
       "      <td>-1.0</td>\n",
       "    </tr>\n",
       "    <tr>\n",
       "      <th>5</th>\n",
       "      <td>2957.0</td>\n",
       "      <td>NS</td>\n",
       "      <td>-1.0</td>\n",
       "    </tr>\n",
       "    <tr>\n",
       "      <th>7</th>\n",
       "      <td>2957.0</td>\n",
       "      <td>NS</td>\n",
       "      <td>-1.0</td>\n",
       "    </tr>\n",
       "    <tr>\n",
       "      <th>9</th>\n",
       "      <td>2957.0</td>\n",
       "      <td>NS</td>\n",
       "      <td>-1.0</td>\n",
       "    </tr>\n",
       "  </tbody>\n",
       "</table>\n",
       "</div>"
      ],
      "text/plain": [
       "   LedGreen sleep_stage  sleep_state\n",
       "1    2959.0          NS         -1.0\n",
       "3    2959.0          NS         -1.0\n",
       "5    2957.0          NS         -1.0\n",
       "7    2957.0          NS         -1.0\n",
       "9    2957.0          NS         -1.0"
      ]
     },
     "execution_count": 3,
     "metadata": {},
     "output_type": "execute_result"
    }
   ],
   "source": [
    "df = df[['LedGreen','sleep_stage', 'sleep_state']].dropna()\n",
    "df.head()"
   ]
  },
  {
   "cell_type": "code",
   "execution_count": 4,
   "metadata": {},
   "outputs": [
    {
     "data": {
      "text/plain": [
       "(N2     184346\n",
       " WK     138073\n",
       " N3     124645\n",
       " REM     83884\n",
       " N1      38064\n",
       " NS       5972\n",
       " Name: sleep_stage, dtype: int64,\n",
       "  2.0    184346\n",
       "  0.0    138073\n",
       "  3.0    124645\n",
       "  4.0     83884\n",
       "  1.0     38064\n",
       " -1.0      5972\n",
       " Name: sleep_state, dtype: int64)"
      ]
     },
     "execution_count": 4,
     "metadata": {},
     "output_type": "execute_result"
    }
   ],
   "source": [
    "df['sleep_stage'].value_counts(), df['sleep_state'].value_counts()"
   ]
  },
  {
   "cell_type": "markdown",
   "metadata": {},
   "source": [
    "#### Apply band pass filter to the signal"
   ]
  },
  {
   "cell_type": "code",
   "execution_count": 5,
   "metadata": {},
   "outputs": [],
   "source": [
    "from scipy.signal import butter, sosfilt, sosfreqz\n",
    "\n",
    "def butter_bandpass(lowcut, highcut, fs, order=5):\n",
    "        nyq = 0.5 * fs\n",
    "        low = lowcut / nyq\n",
    "        high = highcut / nyq\n",
    "        sos = butter(order, [low, high], analog=False, btype='band', output='sos')\n",
    "        return sos\n",
    "\n",
    "def butter_bandpass_filter(data, lowcut, highcut, fs, order=5):\n",
    "        sos = butter_bandpass(lowcut, highcut, fs, order=order)\n",
    "        y = sosfilt(sos, data)\n",
    "        return y"
   ]
  },
  {
   "cell_type": "code",
   "execution_count": 6,
   "metadata": {},
   "outputs": [],
   "source": [
    "# apply bandpass filter\n",
    "\n",
    "fs = 25\n",
    "lowcut = 0.35\n",
    "highcut = 5.0\n",
    "\n",
    "pro_ppg = butter_bandpass_filter(df['LedGreen'], lowcut, highcut, fs, order=5)"
   ]
  },
  {
   "cell_type": "code",
   "execution_count": 7,
   "metadata": {},
   "outputs": [
    {
     "data": {
      "image/png": "[encoded data removed]",
      "text/plain": [
       "<Figure size 432x288 with 1 Axes>"
      ]
     },
     "metadata": {
      "needs_background": "light"
     },
     "output_type": "display_data"
    }
   ],
   "source": [
    "plt.plot(pro_ppg, label='Filtered signal (%g Hz)' % 25)\n",
    "plt.xlabel('time (ms)')\n",
    "plt.grid(True)\n",
    "plt.axis('tight')\n",
    "plt.legend(loc='upper left')\n",
    "\n",
    "plt.show()"
   ]
  },
  {
   "cell_type": "code",
   "execution_count": null,
   "metadata": {},
   "outputs": [],
   "source": []
  },
  {
   "cell_type": "code",
   "execution_count": null,
   "metadata": {},
   "outputs": [],
   "source": []
  },
  {
   "cell_type": "code",
   "execution_count": null,
   "metadata": {},
   "outputs": [],
   "source": []
  },
  {
   "cell_type": "code",
   "execution_count": null,
   "metadata": {},
   "outputs": [],
   "source": []
  },
  {
   "cell_type": "markdown",
   "metadata": {},
   "source": [
    "## Check EDF files for reference"
   ]
  },
  {
   "cell_type": "code",
   "execution_count": 8,
   "metadata": {},
   "outputs": [],
   "source": [
    "# Read raw and annotation from EDF files\n",
    "psg_fnames = glob.glob(os.path.join(\"./data/sleepedf/sleep-cassette\", \"*PSG.edf\"))\n",
    "ann_fnames = glob.glob(os.path.join(\"./data/sleepedf/sleep-cassette\", \"*Hypnogram.edf\"))\n",
    "psg_fnames.sort()\n",
    "ann_fnames.sort()\n",
    "psg_fnames = np.asarray(psg_fnames)\n",
    "ann_fnames = np.asarray(ann_fnames)"
   ]
  },
  {
   "cell_type": "code",
   "execution_count": 9,
   "metadata": {},
   "outputs": [],
   "source": [
    "i = 0\n",
    "\n",
    "psg_f = pyedflib.EdfReader(psg_fnames[i])\n",
    "ann_f = pyedflib.EdfReader(ann_fnames[i])\n",
    "\n",
    "assert psg_f.getStartdatetime() == ann_f.getStartdatetime()\n",
    "start_datetime = psg_f.getStartdatetime()"
   ]
  },
  {
   "cell_type": "code",
   "execution_count": 10,
   "metadata": {},
   "outputs": [
    {
     "data": {
      "text/plain": [
       "79500"
      ]
     },
     "execution_count": 10,
     "metadata": {},
     "output_type": "execute_result"
    }
   ],
   "source": [
    "psg_f.getFileDuration()"
   ]
  },
  {
   "cell_type": "code",
   "execution_count": 11,
   "metadata": {},
   "outputs": [
    {
     "data": {
      "text/plain": [
       "['EEG Fpz-Cz',\n",
       " 'EEG Pz-Oz',\n",
       " 'EOG horizontal',\n",
       " 'Resp oro-nasal',\n",
       " 'EMG submental',\n",
       " 'Temp rectal',\n",
       " 'Event marker']"
      ]
     },
     "execution_count": 11,
     "metadata": {},
     "output_type": "execute_result"
    }
   ],
   "source": [
    "# Extract signal from the selected channel\n",
    "psg_f.getSignalLabels()"
   ]
  },
  {
   "cell_type": "code",
   "execution_count": 12,
   "metadata": {},
   "outputs": [
    {
     "data": {
      "text/plain": [
       "array([7950000, 7950000, 7950000,   79500,   79500,   79500,   79500])"
      ]
     },
     "execution_count": 12,
     "metadata": {},
     "output_type": "execute_result"
    }
   ],
   "source": [
    "psg_f.getNSamples()"
   ]
  },
  {
   "cell_type": "code",
   "execution_count": 13,
   "metadata": {},
   "outputs": [],
   "source": [
    "\n",
    "sampling_rate = psg_f.getSampleFrequency(0)\n",
    "n_epoch_samples = int(30 * sampling_rate)\n",
    "signals = psg_f.readSignal(0).reshape(-1, n_epoch_samples)"
   ]
  },
  {
   "cell_type": "code",
   "execution_count": 14,
   "metadata": {},
   "outputs": [
    {
     "data": {
      "text/plain": [
       "(2650, 3000)"
      ]
     },
     "execution_count": 14,
     "metadata": {},
     "output_type": "execute_result"
    }
   ],
   "source": [
    "signals.shape"
   ]
  },
  {
   "cell_type": "code",
   "execution_count": 18,
   "metadata": {},
   "outputs": [
    {
     "data": {
      "text/plain": [
       "[<matplotlib.lines.Line2D at 0x269ba0a9630>]"
      ]
     },
     "execution_count": 18,
     "metadata": {},
     "output_type": "execute_result"
    },
    {
     "data": {
      "image/png": "[encoded data removed]",
      "text/plain": [
       "<Figure size 432x288 with 1 Axes>"
      ]
     },
     "metadata": {
      "needs_background": "light"
     },
     "output_type": "display_data"
    }
   ],
   "source": [
    "plt.plot(signals[0])"
   ]
  },
  {
   "cell_type": "code",
   "execution_count": 15,
   "metadata": {},
   "outputs": [],
   "source": [
    "\n",
    "ann_onsets, ann_durations, ann_stages = ann_f.readAnnotations()"
   ]
  },
  {
   "cell_type": "code",
   "execution_count": 32,
   "metadata": {},
   "outputs": [],
   "source": [
    "# Have to manually define based on the dataset\n",
    "ann2label = {\n",
    "    \"Sleep stage W\": 0,\n",
    "    \"Sleep stage 1\": 1,\n",
    "    \"Sleep stage 2\": 2,\n",
    "    \"Sleep stage 3\": 3,\n",
    "    \"Sleep stage 4\": 3,  # Follow AASM Manual\n",
    "    \"Sleep stage R\": 4,\n",
    "    \"Sleep stage ?\": 6,\n",
    "    \"Movement time\": 5\n",
    "}\n",
    "\n",
    "\n",
    "# Generate labels from onset and duration annotation\n",
    "labels = []\n",
    "total_duration = 0\n",
    "ann_onsets, ann_durations, ann_stages = ann_f.readAnnotations()\n",
    "for a in range(len(ann_stages)):\n",
    "    onset_sec = int(ann_onsets[a])\n",
    "    duration_sec = int(ann_durations[a])\n",
    "    ann_str = \"\".join(ann_stages[a])\n",
    "\n",
    "    # Sanity check\n",
    "    assert onset_sec == total_duration\n",
    "\n",
    "    # Get label value\n",
    "    label = ann2label[ann_str]\n",
    "\n",
    "    # Compute # of epoch for this stage\n",
    "    duration_epoch = int(duration_sec / 30)\n",
    "\n",
    "    # Generate sleep stage labels\n",
    "    label_epoch = np.ones(duration_epoch, dtype=np.int) * label\n",
    "    labels.append(label_epoch)\n",
    "\n",
    "    total_duration += duration_sec\n",
    "\n",
    "labels = np.hstack(labels)"
   ]
  },
  {
   "cell_type": "code",
   "execution_count": 39,
   "metadata": {},
   "outputs": [],
   "source": [
    "\n",
    "# Remove annotations that are longer than the recorded signals\n",
    "labels = labels[:len(signals)]\n"
   ]
  },
  {
   "cell_type": "code",
   "execution_count": 40,
   "metadata": {},
   "outputs": [],
   "source": [
    "# Get epochs and their corresponding labels\n",
    "x = signals.astype(np.float32)\n",
    "y = labels.astype(np.int32)"
   ]
  },
  {
   "cell_type": "code",
   "execution_count": 44,
   "metadata": {},
   "outputs": [
    {
     "name": "stdout",
     "output_type": "stream",
     "text": [
      "Shape before movement remove (841, 3000) (841,)\n"
     ]
    }
   ],
   "source": [
    "from sleepstage import stage_dict\n",
    "\n",
    "# Select only sleep periods\n",
    "w_edge_mins = 30\n",
    "nw_idx = np.where(y != stage_dict[\"W\"])[0]\n",
    "start_idx = nw_idx[0] - (w_edge_mins * 2)\n",
    "end_idx = nw_idx[-1] + (w_edge_mins * 2)\n",
    "if start_idx < 0: start_idx = 0\n",
    "if end_idx >= len(y): end_idx = len(y) - 1\n",
    "select_idx = np.arange(start_idx, end_idx+1)\n",
    "x = x[select_idx]\n",
    "y = y[select_idx]\n",
    "print(\"Shape before movement remove\", x.shape, y.shape)\n",
    "\n",
    "# Remove movement and unknown\n",
    "move_idx = np.where(y == stage_dict[\"MOVE\"])[0]\n",
    "unk_idx = np.where(y == stage_dict[\"UNK\"])[0]\n",
    "if len(move_idx) > 0 or len(unk_idx) > 0:\n",
    "    remove_idx = np.union1d(move_idx, unk_idx)\n",
    "    print(\"Remove irrelavant stages\")\n",
    "    print(\"  Movement: ({}) {}\".format(len(move_idx), move_idx))\n",
    "    print(\"  Unknown: ({}) {}\".format(len(unk_idx), unk_idx))\n",
    "    print(\"  Remove: ({}) {}\".format(len(remove_idx), remove_idx))\n",
    "    print(\"  Data before removal: {}, {}\".format(x.shape, y.shape))\n",
    "    select_idx = np.setdiff1d(np.arange(len(x)), remove_idx)\n",
    "    x = x[select_idx]\n",
    "    y = y[select_idx]\n",
    "    print(\"  Data after removal: {}, {}\".format(x.shape, y.shape))"
   ]
  },
  {
   "cell_type": "code",
   "execution_count": null,
   "metadata": {},
   "outputs": [],
   "source": []
  },
  {
   "cell_type": "code",
   "execution_count": null,
   "metadata": {},
   "outputs": [],
   "source": []
  }
 ],
 "metadata": {
  "kernelspec": {
   "display_name": "Python 3.6.13 ('tinysleepnet')",
   "language": "python",
   "name": "python3"
  },
  "language_info": {
   "codemirror_mode": {
    "name": "ipython",
    "version": 3
   },
   "file_extension": ".py",
   "mimetype": "text/x-python",
   "name": "python",
   "nbconvert_exporter": "python",
   "pygments_lexer": "ipython3",
   "version": "3.6.13"
  },
  "orig_nbformat": 4,
  "vscode": {
   "interpreter": {
    "hash": "4f3bfd9dfd8a6d69d4a5236bd8bb10b1c924c6a4b03592b01945a3632129e65a"
   }
  }
 },
 "nbformat": 4,
 "nbformat_minor": 2
}
